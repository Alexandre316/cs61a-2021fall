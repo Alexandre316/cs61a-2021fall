{
 "cells": [
  {
   "cell_type": "code",
   "execution_count": 1,
   "id": "7932302c",
   "metadata": {
    "ExecuteTime": {
     "end_time": "2022-06-15T05:59:56.851000Z",
     "start_time": "2022-06-15T05:59:56.262007Z"
    }
   },
   "outputs": [
    {
     "ename": "ModuleNotFoundError",
     "evalue": "No module named 'scheme_reader'",
     "output_type": "error",
     "traceback": [
      "\u001b[1;31m---------------------------------------------------------------------------\u001b[0m",
      "\u001b[1;31mModuleNotFoundError\u001b[0m                       Traceback (most recent call last)",
      "Input \u001b[1;32mIn [1]\u001b[0m, in \u001b[0;36m<cell line: 1>\u001b[1;34m()\u001b[0m\n\u001b[1;32m----> 1\u001b[0m \u001b[38;5;28;01mfrom\u001b[39;00m \u001b[38;5;21;01mscheme_reader\u001b[39;00m \u001b[38;5;28;01mimport\u001b[39;00m \u001b[38;5;241m*\u001b[39m\n",
      "\u001b[1;31mModuleNotFoundError\u001b[0m: No module named 'scheme_reader'"
     ]
    }
   ],
   "source": [
    "from scheme_reader import *"
   ]
  },
  {
   "cell_type": "code",
   "execution_count": 2,
   "id": "b4851202",
   "metadata": {
    "ExecuteTime": {
     "end_time": "2022-06-15T06:00:41.655618Z",
     "start_time": "2022-06-15T06:00:41.017616Z"
    }
   },
   "outputs": [],
   "source": [
    " from scheme import *"
   ]
  },
  {
   "cell_type": "code",
   "execution_count": 3,
   "id": "17a65fd2",
   "metadata": {
    "ExecuteTime": {
     "end_time": "2022-06-15T06:00:46.245690Z",
     "start_time": "2022-06-15T06:00:46.235685Z"
    }
   },
   "outputs": [],
   "source": [
    "env = create_global_frame()"
   ]
  },
  {
   "cell_type": "code",
   "execution_count": 4,
   "id": "854c9ef7",
   "metadata": {
    "ExecuteTime": {
     "end_time": "2022-06-15T06:00:52.003364Z",
     "start_time": "2022-06-15T06:00:51.993364Z"
    }
   },
   "outputs": [],
   "source": [
    "lambda_line = read_line(\"(lambda (a b c) (+ a b c))\")"
   ]
  },
  {
   "cell_type": "code",
   "execution_count": 5,
   "id": "96559fd6",
   "metadata": {
    "ExecuteTime": {
     "end_time": "2022-06-15T06:00:56.455072Z",
     "start_time": "2022-06-15T06:00:56.449050Z"
    }
   },
   "outputs": [],
   "source": [
    "lambda_proc = do_lambda_form(lambda_line.rest, env)"
   ]
  },
  {
   "cell_type": "code",
   "execution_count": 6,
   "id": "cf01ceba",
   "metadata": {
    "ExecuteTime": {
     "end_time": "2022-06-15T06:01:06.396153Z",
     "start_time": "2022-06-15T06:01:06.376099Z"
    }
   },
   "outputs": [
    {
     "data": {
      "text/plain": [
       "Pair('a', Pair('b', Pair('c', nil)))"
      ]
     },
     "execution_count": 6,
     "metadata": {},
     "output_type": "execute_result"
    }
   ],
   "source": [
    "lambda_proc.formals # use single quotes ' around strings in your answer"
   ]
  },
  {
   "cell_type": "code",
   "execution_count": 7,
   "id": "bbd6058e",
   "metadata": {
    "ExecuteTime": {
     "end_time": "2022-06-15T06:01:24.775020Z",
     "start_time": "2022-06-15T06:01:24.754041Z"
    }
   },
   "outputs": [
    {
     "data": {
      "text/plain": [
       "Pair(Pair('+', Pair('a', Pair('b', Pair('c', nil)))), nil)"
      ]
     },
     "execution_count": 7,
     "metadata": {},
     "output_type": "execute_result"
    }
   ],
   "source": [
    " lambda_proc.body"
   ]
  }
 ],
 "metadata": {
  "kernelspec": {
   "display_name": "Python 3 (ipykernel)",
   "language": "python",
   "name": "python3"
  },
  "language_info": {
   "codemirror_mode": {
    "name": "ipython",
    "version": 3
   },
   "file_extension": ".py",
   "mimetype": "text/x-python",
   "name": "python",
   "nbconvert_exporter": "python",
   "pygments_lexer": "ipython3",
   "version": "3.9.7"
  }
 },
 "nbformat": 4,
 "nbformat_minor": 5
}
