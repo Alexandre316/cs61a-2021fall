{
 "cells": [
  {
   "cell_type": "code",
   "execution_count": 2,
   "id": "8a7004bf",
   "metadata": {
    "ExecuteTime": {
     "end_time": "2022-06-15T07:10:10.829670Z",
     "start_time": "2022-06-15T07:10:10.790672Z"
    }
   },
   "outputs": [
    {
     "ename": "ModuleNotFoundError",
     "evalue": "No module named 'scheme_reader'",
     "output_type": "error",
     "traceback": [
      "\u001b[1;31m---------------------------------------------------------------------------\u001b[0m",
      "\u001b[1;31mModuleNotFoundError\u001b[0m                       Traceback (most recent call last)",
      "Input \u001b[1;32mIn [2]\u001b[0m, in \u001b[0;36m<cell line: 1>\u001b[1;34m()\u001b[0m\n\u001b[1;32m----> 1\u001b[0m \u001b[38;5;28;01mfrom\u001b[39;00m \u001b[38;5;21;01mscheme_reader\u001b[39;00m \u001b[38;5;28;01mimport\u001b[39;00m \u001b[38;5;241m*\u001b[39m\n",
      "\u001b[1;31mModuleNotFoundError\u001b[0m: No module named 'scheme_reader'"
     ]
    }
   ],
   "source": [
    "from scheme_reader import *"
   ]
  },
  {
   "cell_type": "code",
   "execution_count": 3,
   "id": "b1c19cbd",
   "metadata": {
    "ExecuteTime": {
     "end_time": "2022-06-15T07:10:12.093676Z",
     "start_time": "2022-06-15T07:10:11.510676Z"
    }
   },
   "outputs": [],
   "source": [
    " from scheme import *"
   ]
  },
  {
   "cell_type": "code",
   "execution_count": 3,
   "id": "8e693289",
   "metadata": {
    "ExecuteTime": {
     "end_time": "2022-06-15T06:00:46.245690Z",
     "start_time": "2022-06-15T06:00:46.235685Z"
    }
   },
   "outputs": [],
   "source": [
    "env = create_global_frame()"
   ]
  },
  {
   "cell_type": "code",
   "execution_count": 4,
   "id": "7aa87b4b",
   "metadata": {
    "ExecuteTime": {
     "end_time": "2022-06-15T06:00:52.003364Z",
     "start_time": "2022-06-15T06:00:51.993364Z"
    }
   },
   "outputs": [],
   "source": [
    "lambda_line = read_line(\"(lambda (a b c) (+ a b c))\")"
   ]
  },
  {
   "cell_type": "code",
   "execution_count": 5,
   "id": "e60772aa",
   "metadata": {
    "ExecuteTime": {
     "end_time": "2022-06-15T06:00:56.455072Z",
     "start_time": "2022-06-15T06:00:56.449050Z"
    }
   },
   "outputs": [],
   "source": [
    "lambda_proc = do_lambda_form(lambda_line.rest, env)"
   ]
  },
  {
   "cell_type": "code",
   "execution_count": 6,
   "id": "56e53092",
   "metadata": {
    "ExecuteTime": {
     "end_time": "2022-06-15T06:01:06.396153Z",
     "start_time": "2022-06-15T06:01:06.376099Z"
    }
   },
   "outputs": [
    {
     "data": {
      "text/plain": [
       "Pair('a', Pair('b', Pair('c', nil)))"
      ]
     },
     "execution_count": 6,
     "metadata": {},
     "output_type": "execute_result"
    }
   ],
   "source": [
    "lambda_proc.formals # use single quotes ' around strings in your answer"
   ]
  },
  {
   "cell_type": "code",
   "execution_count": 7,
   "id": "22041f5a",
   "metadata": {
    "ExecuteTime": {
     "end_time": "2022-06-15T06:01:24.775020Z",
     "start_time": "2022-06-15T06:01:24.754041Z"
    }
   },
   "outputs": [
    {
     "data": {
      "text/plain": [
       "Pair(Pair('+', Pair('a', Pair('b', Pair('c', nil)))), nil)"
      ]
     },
     "execution_count": 7,
     "metadata": {},
     "output_type": "execute_result"
    }
   ],
   "source": [
    " lambda_proc.body"
   ]
  },
  {
   "cell_type": "code",
   "execution_count": 4,
   "id": "e135a778",
   "metadata": {
    "ExecuteTime": {
     "end_time": "2022-06-15T07:10:13.696275Z",
     "start_time": "2022-06-15T07:10:13.677271Z"
    }
   },
   "outputs": [],
   "source": [
    "global_frame = create_global_frame()"
   ]
  },
  {
   "cell_type": "code",
   "execution_count": 5,
   "id": "09d18edf",
   "metadata": {
    "ExecuteTime": {
     "end_time": "2022-06-15T07:10:19.381040Z",
     "start_time": "2022-06-15T07:10:19.365046Z"
    }
   },
   "outputs": [],
   "source": [
    "formals = Pair('a', Pair('b', Pair('c', nil)))"
   ]
  },
  {
   "cell_type": "code",
   "execution_count": 6,
   "id": "fa678b61",
   "metadata": {
    "ExecuteTime": {
     "end_time": "2022-06-15T07:10:24.064521Z",
     "start_time": "2022-06-15T07:10:24.048529Z"
    }
   },
   "outputs": [],
   "source": [
    "vals = Pair(1, Pair(2, Pair(3, nil)))"
   ]
  },
  {
   "cell_type": "code",
   "execution_count": 7,
   "id": "73625451",
   "metadata": {
    "ExecuteTime": {
     "end_time": "2022-06-15T07:10:31.465678Z",
     "start_time": "2022-06-15T07:10:31.457681Z"
    }
   },
   "outputs": [],
   "source": [
    "frame = global_frame.make_child_frame(formals, vals)"
   ]
  },
  {
   "cell_type": "code",
   "execution_count": 8,
   "id": "940730b6",
   "metadata": {
    "ExecuteTime": {
     "end_time": "2022-06-15T07:10:37.230193Z",
     "start_time": "2022-06-15T07:10:37.153196Z"
    }
   },
   "outputs": [
    {
     "ename": "SchemeError",
     "evalue": "unknown identifier: a",
     "output_type": "error",
     "traceback": [
      "\u001b[1;31m---------------------------------------------------------------------------\u001b[0m",
      "\u001b[1;31mSchemeError\u001b[0m                               Traceback (most recent call last)",
      "Input \u001b[1;32mIn [8]\u001b[0m, in \u001b[0;36m<cell line: 1>\u001b[1;34m()\u001b[0m\n\u001b[1;32m----> 1\u001b[0m \u001b[43mglobal_frame\u001b[49m\u001b[38;5;241;43m.\u001b[39;49m\u001b[43mlookup\u001b[49m\u001b[43m(\u001b[49m\u001b[38;5;124;43m'\u001b[39;49m\u001b[38;5;124;43ma\u001b[39;49m\u001b[38;5;124;43m'\u001b[39;49m\u001b[43m)\u001b[49m\n",
      "File \u001b[1;32mE:\\学习文件\\计算机基础知识\\计算机导论\\CS61A-master\\LearningMaterials\\Projects\\scheme\\scheme_classes.py:50\u001b[0m, in \u001b[0;36mFrame.lookup\u001b[1;34m(self, symbol)\u001b[0m\n\u001b[0;32m     48\u001b[0m         pos \u001b[38;5;241m=\u001b[39m pos\u001b[38;5;241m.\u001b[39mparent\n\u001b[0;32m     49\u001b[0m \u001b[38;5;66;03m# END PROBLEM 1\u001b[39;00m\n\u001b[1;32m---> 50\u001b[0m \u001b[38;5;28;01mraise\u001b[39;00m SchemeError(\u001b[38;5;124m'\u001b[39m\u001b[38;5;124munknown identifier: \u001b[39m\u001b[38;5;132;01m{0}\u001b[39;00m\u001b[38;5;124m'\u001b[39m\u001b[38;5;241m.\u001b[39mformat(symbol))\n",
      "\u001b[1;31mSchemeError\u001b[0m: unknown identifier: a"
     ]
    }
   ],
   "source": [
    "global_frame.lookup('a')"
   ]
  },
  {
   "cell_type": "code",
   "execution_count": null,
   "id": "a6ff6dee",
   "metadata": {},
   "outputs": [],
   "source": []
  }
 ],
 "metadata": {
  "kernelspec": {
   "display_name": "Python 3 (ipykernel)",
   "language": "python",
   "name": "python3"
  },
  "language_info": {
   "codemirror_mode": {
    "name": "ipython",
    "version": 3
   },
   "file_extension": ".py",
   "mimetype": "text/x-python",
   "name": "python",
   "nbconvert_exporter": "python",
   "pygments_lexer": "ipython3",
   "version": "3.9.7"
  }
 },
 "nbformat": 4,
 "nbformat_minor": 5
}
