{
 "cells": [
  {
   "cell_type": "code",
   "execution_count": 1,
   "id": "3b9ab952",
   "metadata": {
    "ExecuteTime": {
     "end_time": "2022-06-14T12:57:21.541567Z",
     "start_time": "2022-06-14T12:57:21.026449Z"
    }
   },
   "outputs": [],
   "source": [
    "from ucb import *\n",
    "from pair import *\n",
    "from scheme_reader import *\n",
    "from buffer import *\n",
    "from scheme_tokens import *"
   ]
  },
  {
   "cell_type": "code",
   "execution_count": 2,
   "id": "6ab37627",
   "metadata": {
    "ExecuteTime": {
     "end_time": "2022-06-14T12:57:22.336402Z",
     "start_time": "2022-06-14T12:57:22.319401Z"
    }
   },
   "outputs": [],
   "source": [
    "tokens = tokenize_lines([\"(+ 1 \", \"(23 4)) (\"])"
   ]
  },
  {
   "cell_type": "code",
   "execution_count": 3,
   "id": "4473a170",
   "metadata": {
    "ExecuteTime": {
     "end_time": "2022-06-14T12:57:22.996532Z",
     "start_time": "2022-06-14T12:57:22.978429Z"
    }
   },
   "outputs": [],
   "source": [
    " src = Buffer(tokens)"
   ]
  },
  {
   "cell_type": "code",
   "execution_count": 4,
   "id": "be53b0b4",
   "metadata": {
    "ExecuteTime": {
     "end_time": "2022-06-14T12:57:23.506424Z",
     "start_time": "2022-06-14T12:57:23.490401Z"
    }
   },
   "outputs": [
    {
     "data": {
      "text/plain": [
       "'('"
      ]
     },
     "execution_count": 4,
     "metadata": {},
     "output_type": "execute_result"
    }
   ],
   "source": [
    " src.current()"
   ]
  },
  {
   "cell_type": "code",
   "execution_count": 5,
   "id": "a09fd85f",
   "metadata": {
    "ExecuteTime": {
     "end_time": "2022-06-14T12:57:24.136407Z",
     "start_time": "2022-06-14T12:57:24.128400Z"
    }
   },
   "outputs": [
    {
     "data": {
      "text/plain": [
       "'('"
      ]
     },
     "execution_count": 5,
     "metadata": {},
     "output_type": "execute_result"
    }
   ],
   "source": [
    "src.pop_first()"
   ]
  },
  {
   "cell_type": "code",
   "execution_count": 6,
   "id": "02f7df93",
   "metadata": {
    "ExecuteTime": {
     "end_time": "2022-06-14T12:57:24.826407Z",
     "start_time": "2022-06-14T12:57:24.807400Z"
    }
   },
   "outputs": [
    {
     "data": {
      "text/plain": [
       "'+'"
      ]
     },
     "execution_count": 6,
     "metadata": {},
     "output_type": "execute_result"
    }
   ],
   "source": [
    "src.current()"
   ]
  },
  {
   "cell_type": "code",
   "execution_count": 7,
   "id": "e997542d",
   "metadata": {
    "ExecuteTime": {
     "end_time": "2022-06-14T12:57:25.877442Z",
     "start_time": "2022-06-14T12:57:25.858310Z"
    }
   },
   "outputs": [
    {
     "data": {
      "text/plain": [
       "'+'"
      ]
     },
     "execution_count": 7,
     "metadata": {},
     "output_type": "execute_result"
    }
   ],
   "source": [
    " src.pop_first()"
   ]
  },
  {
   "cell_type": "code",
   "execution_count": 8,
   "id": "37ace366",
   "metadata": {
    "ExecuteTime": {
     "end_time": "2022-06-14T12:57:26.551936Z",
     "start_time": "2022-06-14T12:57:26.543935Z"
    }
   },
   "outputs": [
    {
     "data": {
      "text/plain": [
       "1"
      ]
     },
     "execution_count": 8,
     "metadata": {},
     "output_type": "execute_result"
    }
   ],
   "source": [
    "src.pop_first()"
   ]
  },
  {
   "cell_type": "code",
   "execution_count": 9,
   "id": "e01a505a",
   "metadata": {
    "ExecuteTime": {
     "end_time": "2022-06-14T12:57:27.377829Z",
     "start_time": "2022-06-14T12:57:27.370825Z"
    }
   },
   "outputs": [
    {
     "data": {
      "text/plain": [
       "Pair(23, Pair(4, nil))"
      ]
     },
     "execution_count": 9,
     "metadata": {},
     "output_type": "execute_result"
    }
   ],
   "source": [
    " scheme_read(src)"
   ]
  },
  {
   "cell_type": "code",
   "execution_count": 11,
   "id": "f75d221c",
   "metadata": {
    "ExecuteTime": {
     "end_time": "2022-06-14T12:58:12.980203Z",
     "start_time": "2022-06-14T12:58:12.969209Z"
    }
   },
   "outputs": [
    {
     "data": {
      "text/plain": [
       "Pair(18, Pair(6, nil))"
      ]
     },
     "execution_count": 11,
     "metadata": {},
     "output_type": "execute_result"
    }
   ],
   "source": [
    "scheme_read(Buffer(tokenize_lines(['(18 6)'])))"
   ]
  },
  {
   "cell_type": "code",
   "execution_count": 12,
   "id": "8be0c9f7",
   "metadata": {
    "ExecuteTime": {
     "end_time": "2022-06-14T12:58:22.752448Z",
     "start_time": "2022-06-14T12:58:22.746429Z"
    }
   },
   "outputs": [
    {
     "data": {
      "text/plain": [
       "Pair(18, Pair(6, nil))"
      ]
     },
     "execution_count": 12,
     "metadata": {},
     "output_type": "execute_result"
    }
   ],
   "source": [
    " read_line('(18 6)')"
   ]
  },
  {
   "cell_type": "code",
   "execution_count": 13,
   "id": "754334d2",
   "metadata": {
    "ExecuteTime": {
     "end_time": "2022-06-14T12:58:36.557378Z",
     "start_time": "2022-06-14T12:58:36.546377Z"
    }
   },
   "outputs": [
    {
     "data": {
      "text/plain": [
       "nil"
      ]
     },
     "execution_count": 13,
     "metadata": {},
     "output_type": "execute_result"
    }
   ],
   "source": [
    "read_tail(Buffer(tokenize_lines([')'])))"
   ]
  },
  {
   "cell_type": "code",
   "execution_count": 14,
   "id": "a9bf0d3a",
   "metadata": {
    "ExecuteTime": {
     "end_time": "2022-06-14T12:58:45.865479Z",
     "start_time": "2022-06-14T12:58:45.852496Z"
    }
   },
   "outputs": [
    {
     "data": {
      "text/plain": [
       "Pair(1, Pair(2, Pair(3, nil)))"
      ]
     },
     "execution_count": 14,
     "metadata": {},
     "output_type": "execute_result"
    }
   ],
   "source": [
    "read_tail(Buffer(tokenize_lines(['1 2 3)'])))"
   ]
  },
  {
   "cell_type": "code",
   "execution_count": 15,
   "id": "4c2d26a7",
   "metadata": {
    "ExecuteTime": {
     "end_time": "2022-06-14T12:58:54.425112Z",
     "start_time": "2022-06-14T12:58:54.412111Z"
    }
   },
   "outputs": [
    {
     "data": {
      "text/plain": [
       "Pair(2, Pair(Pair(3, Pair(4, nil)), nil))"
      ]
     },
     "execution_count": 15,
     "metadata": {},
     "output_type": "execute_result"
    }
   ],
   "source": [
    "read_tail(Buffer(tokenize_lines(['2 (3 4))'])))"
   ]
  },
  {
   "cell_type": "code",
   "execution_count": 16,
   "id": "9da48a43",
   "metadata": {
    "ExecuteTime": {
     "end_time": "2022-06-14T12:59:04.317294Z",
     "start_time": "2022-06-14T12:59:04.306300Z"
    }
   },
   "outputs": [
    {
     "ename": "SyntaxError",
     "evalue": "unexpected end of file (<string>)",
     "output_type": "error",
     "traceback": [
      "Traceback \u001b[1;36m(most recent call last)\u001b[0m:\n",
      "  File \u001b[0;32mD:\\Anaconda\\lib\\site-packages\\IPython\\core\\interactiveshell.py:3361\u001b[0m in \u001b[0;35mrun_code\u001b[0m\n    exec(code_obj, self.user_global_ns, self.user_ns)\n",
      "  Input \u001b[0;32mIn [16]\u001b[0m in \u001b[0;35m<cell line: 1>\u001b[0m\n    read_tail(Buffer(tokenize_lines(['(1 2 3)']))) # Type SyntaxError if you think this errors\n",
      "  File \u001b[0;32mE:\\学习文件\\计算机基础知识\\计算机导论\\CS61A-master\\LearningMaterials\\Labs\\lab11\\scheme_reader.py:86\u001b[0m in \u001b[0;35mread_tail\u001b[0m\n    return Pair(scheme_read(src), read_tail(src))\n",
      "\u001b[1;36m  File \u001b[1;32mE:\\学习文件\\计算机基础知识\\计算机导论\\CS61A-master\\LearningMaterials\\Labs\\lab11\\scheme_reader.py:76\u001b[1;36m in \u001b[1;35mread_tail\u001b[1;36m\u001b[0m\n\u001b[1;33m    raise SyntaxError('unexpected end of file')\u001b[0m\n",
      "\u001b[1;36m  File \u001b[1;32m<string>\u001b[1;36m\u001b[0m\n\u001b[1;31mSyntaxError\u001b[0m\u001b[1;31m:\u001b[0m unexpected end of file\n"
     ]
    }
   ],
   "source": [
    "read_tail(Buffer(tokenize_lines(['(1 2 3)']))) # Type SyntaxError if you think this errors"
   ]
  },
  {
   "cell_type": "code",
   "execution_count": 17,
   "id": "a01157b1",
   "metadata": {
    "ExecuteTime": {
     "end_time": "2022-06-14T12:59:13.103501Z",
     "start_time": "2022-06-14T12:59:13.092502Z"
    }
   },
   "outputs": [
    {
     "ename": "SyntaxError",
     "evalue": "unexpected end of file (<string>)",
     "output_type": "error",
     "traceback": [
      "Traceback \u001b[1;36m(most recent call last)\u001b[0m:\n",
      "  File \u001b[0;32mD:\\Anaconda\\lib\\site-packages\\IPython\\core\\interactiveshell.py:3361\u001b[0m in \u001b[0;35mrun_code\u001b[0m\n    exec(code_obj, self.user_global_ns, self.user_ns)\n",
      "  Input \u001b[0;32mIn [17]\u001b[0m in \u001b[0;35m<cell line: 1>\u001b[0m\n    read_line('((1 2 3)') # Type SyntaxError if you think this errors\n",
      "  File \u001b[0;32mE:\\学习文件\\计算机基础知识\\计算机导论\\CS61A-master\\LearningMaterials\\Labs\\lab11\\scheme_reader.py:111\u001b[0m in \u001b[0;35mread_line\u001b[0m\n    result = scheme_read(buf)\n",
      "  File \u001b[0;32mE:\\学习文件\\计算机基础知识\\计算机导论\\CS61A-master\\LearningMaterials\\Labs\\lab11\\scheme_reader.py:53\u001b[0m in \u001b[0;35mscheme_read\u001b[0m\n    return read_tail(src)\n",
      "  File \u001b[0;32mE:\\学习文件\\计算机基础知识\\计算机导论\\CS61A-master\\LearningMaterials\\Labs\\lab11\\scheme_reader.py:86\u001b[0m in \u001b[0;35mread_tail\u001b[0m\n    return Pair(scheme_read(src), read_tail(src))\n",
      "\u001b[1;36m  File \u001b[1;32mE:\\学习文件\\计算机基础知识\\计算机导论\\CS61A-master\\LearningMaterials\\Labs\\lab11\\scheme_reader.py:76\u001b[1;36m in \u001b[1;35mread_tail\u001b[1;36m\u001b[0m\n\u001b[1;33m    raise SyntaxError('unexpected end of file')\u001b[0m\n",
      "\u001b[1;36m  File \u001b[1;32m<string>\u001b[1;36m\u001b[0m\n\u001b[1;31mSyntaxError\u001b[0m\u001b[1;31m:\u001b[0m unexpected end of file\n"
     ]
    }
   ],
   "source": [
    " read_line('((1 2 3)') # Type SyntaxError if you think this errors"
   ]
  }
 ],
 "metadata": {
  "kernelspec": {
   "display_name": "Python 3 (ipykernel)",
   "language": "python",
   "name": "python3"
  },
  "language_info": {
   "codemirror_mode": {
    "name": "ipython",
    "version": 3
   },
   "file_extension": ".py",
   "mimetype": "text/x-python",
   "name": "python",
   "nbconvert_exporter": "python",
   "pygments_lexer": "ipython3",
   "version": "3.9.7"
  }
 },
 "nbformat": 4,
 "nbformat_minor": 5
}
